{
 "cells": [
  {
   "cell_type": "markdown",
   "id": "opposite-local",
   "metadata": {},
   "source": [
    "\n",
    "\n",
    "\n",
    "HerokuによるBasic認証と定期実行を実装\n",
    "\n",
    "- https://sitest.jp/blog/?p=9238\n",
    "\n",
    "\n"
   ]
  },
  {
   "cell_type": "markdown",
   "id": "frank-spell",
   "metadata": {},
   "source": [
    "## ■ Webスクレイピング\n"
   ]
  },
  {
   "cell_type": "code",
   "execution_count": 1,
   "id": "surrounded-theology",
   "metadata": {
    "collapsed": true,
    "jupyter": {
     "outputs_hidden": true
    }
   },
   "outputs": [
    {
     "name": "stdout",
     "output_type": "stream",
     "text": [
      "Collecting beautifulsoup4\n",
      "  Downloading beautifulsoup4-4.9.3-py3-none-any.whl (115 kB)\n",
      "\u001b[K     |████████████████████████████████| 115 kB 5.0 MB/s eta 0:00:01\n",
      "\u001b[?25hCollecting soupsieve>1.2\n",
      "  Downloading soupsieve-2.2.1-py3-none-any.whl (33 kB)\n",
      "Installing collected packages: soupsieve, beautifulsoup4\n",
      "Successfully installed beautifulsoup4-4.9.3 soupsieve-2.2.1\n"
     ]
    }
   ],
   "source": [
    "!pip3 install beautifulsoup4"
   ]
  },
  {
   "cell_type": "code",
   "execution_count": 2,
   "id": "correct-maximum",
   "metadata": {},
   "outputs": [],
   "source": [
    "import requests\n",
    "from bs4 import BeautifulSoup"
   ]
  },
  {
   "cell_type": "code",
   "execution_count": 4,
   "id": "greatest-calibration",
   "metadata": {},
   "outputs": [],
   "source": [
    "url = 'https://scraping-for-beginner.herokuapp.com/udemy'"
   ]
  },
  {
   "cell_type": "code",
   "execution_count": 9,
   "id": "selective-cambridge",
   "metadata": {},
   "outputs": [],
   "source": [
    "# スクレイピング対象の URL にリクエストを送り HTML を取得する\n",
    "res = requests.get(url)"
   ]
  },
  {
   "cell_type": "code",
   "execution_count": 10,
   "id": "standing-worry",
   "metadata": {},
   "outputs": [],
   "source": [
    "# レスポンスの HTML から BeautifulSoup オブジェクトを作る\n",
    "soup = BeautifulSoup(res.text, 'html.parser')"
   ]
  },
  {
   "cell_type": "markdown",
   "id": "better-channel",
   "metadata": {},
   "source": [
    "## ■ データ取得（Udemy情報）"
   ]
  },
  {
   "cell_type": "code",
   "execution_count": 11,
   "id": "japanese-fluid",
   "metadata": {},
   "outputs": [
    {
     "data": {
      "text/plain": [
       "[<p class=\"subscribers\">受講生の数：11306</p>]"
      ]
     },
     "execution_count": 11,
     "metadata": {},
     "output_type": "execute_result"
    }
   ],
   "source": [
    "soup.find_all('p', {'class': 'subscribers'})"
   ]
  },
  {
   "cell_type": "code",
   "execution_count": 13,
   "id": "difficult-stuff",
   "metadata": {},
   "outputs": [
    {
     "data": {
      "text/plain": [
       "'受講生の数：11306'"
      ]
     },
     "execution_count": 13,
     "metadata": {},
     "output_type": "execute_result"
    }
   ],
   "source": [
    "n_subscriber = soup.find('p', {'class': 'subscribers'}).text\n",
    "n_subscriber"
   ]
  },
  {
   "cell_type": "code",
   "execution_count": 16,
   "id": "gorgeous-matthew",
   "metadata": {},
   "outputs": [
    {
     "data": {
      "text/plain": [
       "11306"
      ]
     },
     "execution_count": 16,
     "metadata": {},
     "output_type": "execute_result"
    }
   ],
   "source": [
    "n_subscriber = int(n_subscriber.split('：')[1])\n",
    "n_subscriber"
   ]
  },
  {
   "cell_type": "code",
   "execution_count": 17,
   "id": "friendly-season",
   "metadata": {},
   "outputs": [
    {
     "data": {
      "text/plain": [
       "'レビューの数：1955'"
      ]
     },
     "execution_count": 17,
     "metadata": {},
     "output_type": "execute_result"
    }
   ],
   "source": [
    "n_review = soup.find('p', {'class': 'reviews'}).text\n",
    "n_review"
   ]
  },
  {
   "cell_type": "code",
   "execution_count": 18,
   "id": "affiliated-mixer",
   "metadata": {},
   "outputs": [
    {
     "data": {
      "text/plain": [
       "1955"
      ]
     },
     "execution_count": 18,
     "metadata": {},
     "output_type": "execute_result"
    }
   ],
   "source": [
    "n_review = int(n_review.split('：')[1])\n",
    "n_review"
   ]
  },
  {
   "cell_type": "markdown",
   "id": "adjacent-collection",
   "metadata": {},
   "source": [
    "## ■ 1つのデータ取得（ECサイト情報）"
   ]
  },
  {
   "cell_type": "code",
   "execution_count": 81,
   "id": "quality-grace",
   "metadata": {},
   "outputs": [],
   "source": [
    "url_ec = 'http://scraping.official.ec/'"
   ]
  },
  {
   "cell_type": "code",
   "execution_count": 82,
   "id": "intense-singer",
   "metadata": {},
   "outputs": [],
   "source": [
    "res = requests.get(url_ec)"
   ]
  },
  {
   "cell_type": "code",
   "execution_count": 83,
   "id": "graduate-boost",
   "metadata": {},
   "outputs": [],
   "source": [
    "soup = BeautifulSoup(res.text, 'html.parser')"
   ]
  },
  {
   "cell_type": "code",
   "execution_count": 84,
   "id": "surprising-turner",
   "metadata": {},
   "outputs": [],
   "source": [
    "itemList = soup.find('ul', {'id': 'itemList'})"
   ]
  },
  {
   "cell_type": "code",
   "execution_count": 85,
   "id": "blond-milan",
   "metadata": {},
   "outputs": [
    {
     "data": {
      "text/plain": [
       "4"
      ]
     },
     "execution_count": 85,
     "metadata": {},
     "output_type": "execute_result"
    }
   ],
   "source": [
    "len(itemList.find_all('li'))"
   ]
  },
  {
   "cell_type": "code",
   "execution_count": 86,
   "id": "spoken-birthday",
   "metadata": {},
   "outputs": [],
   "source": [
    "items = itemList.find_all('li')"
   ]
  },
  {
   "cell_type": "code",
   "execution_count": 111,
   "id": "prerequisite-border",
   "metadata": {},
   "outputs": [],
   "source": [
    "item = items[0]"
   ]
  },
  {
   "cell_type": "markdown",
   "id": "related-ethernet",
   "metadata": {},
   "source": [
    "#### まずは商品タイトル"
   ]
  },
  {
   "cell_type": "code",
   "execution_count": 88,
   "id": "thirty-modification",
   "metadata": {},
   "outputs": [
    {
     "data": {
      "text/plain": [
       "[<p class=\"items-grid_itemTitleText_b58666da\">プログラミング学習の相談</p>]"
      ]
     },
     "execution_count": 88,
     "metadata": {},
     "output_type": "execute_result"
    }
   ],
   "source": [
    "item.find_all('p', {'class': 'items-grid_itemTitleText_b58666da'})"
   ]
  },
  {
   "cell_type": "code",
   "execution_count": 89,
   "id": "collected-porcelain",
   "metadata": {},
   "outputs": [
    {
     "data": {
      "text/plain": [
       "'プログラミング学習の相談'"
      ]
     },
     "execution_count": 89,
     "metadata": {},
     "output_type": "execute_result"
    }
   ],
   "source": [
    "title = item.find('p', {'class': 'items-grid_itemTitleText_b58666da'}).text\n",
    "title"
   ]
  },
  {
   "cell_type": "markdown",
   "id": "declared-shift",
   "metadata": {},
   "source": [
    "#### 次に価格"
   ]
  },
  {
   "cell_type": "code",
   "execution_count": 90,
   "id": "macro-criticism",
   "metadata": {},
   "outputs": [
    {
     "data": {
      "text/plain": [
       "[<p class=\"items-grid_price_b58666da\">¥ 30,000</p>]"
      ]
     },
     "execution_count": 90,
     "metadata": {},
     "output_type": "execute_result"
    }
   ],
   "source": [
    "item.find_all('p', {'class': 'items-grid_price_b58666da'})"
   ]
  },
  {
   "cell_type": "code",
   "execution_count": 91,
   "id": "attended-ethernet",
   "metadata": {},
   "outputs": [
    {
     "data": {
      "text/plain": [
       "'¥ 30,000'"
      ]
     },
     "execution_count": 91,
     "metadata": {},
     "output_type": "execute_result"
    }
   ],
   "source": [
    "price = item.find('p', {'class': 'items-grid_price_b58666da'}).text\n",
    "price"
   ]
  },
  {
   "cell_type": "code",
   "execution_count": 92,
   "id": "continued-matthew",
   "metadata": {},
   "outputs": [
    {
     "data": {
      "text/plain": [
       "30000"
      ]
     },
     "execution_count": 92,
     "metadata": {},
     "output_type": "execute_result"
    }
   ],
   "source": [
    "price = int(price.replace('¥ ', '').replace(',', ''))\n",
    "price"
   ]
  },
  {
   "cell_type": "markdown",
   "id": "other-screening",
   "metadata": {},
   "source": [
    "### 詳細ページリンク"
   ]
  },
  {
   "cell_type": "code",
   "execution_count": 141,
   "id": "proprietary-supply",
   "metadata": {},
   "outputs": [
    {
     "data": {
      "text/plain": [
       "1"
      ]
     },
     "execution_count": 141,
     "metadata": {},
     "output_type": "execute_result"
    }
   ],
   "source": [
    "len(item.find_all('a'))"
   ]
  },
  {
   "cell_type": "code",
   "execution_count": 143,
   "id": "accessible-modem",
   "metadata": {},
   "outputs": [
    {
     "data": {
      "text/plain": [
       "'https://scraping.official.ec/items/40792454'"
      ]
     },
     "execution_count": 143,
     "metadata": {},
     "output_type": "execute_result"
    }
   ],
   "source": [
    "link = item.find('a')['href']\n",
    "link"
   ]
  },
  {
   "cell_type": "markdown",
   "id": "incorrect-basin",
   "metadata": {},
   "source": [
    "### 最後に在庫"
   ]
  },
  {
   "cell_type": "code",
   "execution_count": 117,
   "id": "retained-exclusion",
   "metadata": {},
   "outputs": [
    {
     "data": {
      "text/plain": [
       "True"
      ]
     },
     "execution_count": 117,
     "metadata": {},
     "output_type": "execute_result"
    }
   ],
   "source": [
    "items[0].find('p', {'class': 'items-grid_soldOut_b58666da'}) == None"
   ]
  },
  {
   "cell_type": "code",
   "execution_count": 118,
   "id": "listed-champion",
   "metadata": {},
   "outputs": [
    {
     "data": {
      "text/plain": [
       "False"
      ]
     },
     "execution_count": 118,
     "metadata": {},
     "output_type": "execute_result"
    }
   ],
   "source": [
    "items[3].find('p', {'class': 'items-grid_soldOut_b58666da'}) == None"
   ]
  },
  {
   "cell_type": "code",
   "execution_count": 119,
   "id": "important-atlantic",
   "metadata": {},
   "outputs": [
    {
     "data": {
      "text/plain": [
       "False"
      ]
     },
     "execution_count": 119,
     "metadata": {},
     "output_type": "execute_result"
    }
   ],
   "source": [
    "is_stock = item.find('p', {'class': 'items-grid_soldOut_b58666da'}) == None\n",
    "is_stock"
   ]
  },
  {
   "cell_type": "code",
   "execution_count": 120,
   "id": "chinese-magnet",
   "metadata": {},
   "outputs": [
    {
     "data": {
      "text/plain": [
       "'在庫なし'"
      ]
     },
     "execution_count": 120,
     "metadata": {},
     "output_type": "execute_result"
    }
   ],
   "source": [
    "is_stock = '在庫あり' if is_stock == True else '在庫なし'\n",
    "is_stock"
   ]
  },
  {
   "cell_type": "markdown",
   "id": "broad-volume",
   "metadata": {},
   "source": [
    "## ■ 複数のデータ取得（ECサイト情報）"
   ]
  },
  {
   "cell_type": "code",
   "execution_count": 121,
   "id": "announced-cigarette",
   "metadata": {},
   "outputs": [],
   "source": [
    "url_ec = 'http://scraping.official.ec/'\n",
    "res = requests.get(url_ec)\n",
    "soup = BeautifulSoup(res.text, 'html.parser')\n",
    "itemList = soup.find('ul', {'id': 'itemList'})\n",
    "items = itemList.find_all('li')\n",
    "\n",
    "title = item.find('p', {'class': 'items-grid_itemTitleText_b58666da'}).text\n",
    "price = item.find('p', {'class': 'items-grid_price_b58666da'}).text\n",
    "price = int(price.replace('¥ ', '').replace(',', ''))\n",
    "link = item.find('a')['href']"
   ]
  },
  {
   "cell_type": "code",
   "execution_count": 144,
   "id": "declared-express",
   "metadata": {},
   "outputs": [],
   "source": [
    "url_ec = 'http://scraping.official.ec/'\n",
    "res = requests.get(url_ec)\n",
    "soup = BeautifulSoup(res.text, 'html.parser')\n",
    "itemList = soup.find('ul', {'id': 'itemList'})\n",
    "\n",
    "data_ec = []\n",
    "items = itemList.find_all('li')\n",
    "for item in items:\n",
    "    datum_ec = {}\n",
    "    datum_ec['title'] = item.find('p', {'class': 'items-grid_itemTitleText_b58666da'}).text\n",
    "    price = item.find('p', {'class': 'items-grid_price_b58666da'}).text\n",
    "    datum_ec['price'] = int(price.replace('¥ ', '').replace(',', ''))\n",
    "    datum_ec['link'] = item.find('a')['href']\n",
    "    is_stock = item.find('p', {'class': 'items-grid_soldOut_b58666da'}) == None\n",
    "    datum_ec['is_stock'] = '在庫あり' if is_stock == True else '在庫なし'\n",
    "    data_ec.append(datum_ec)"
   ]
  },
  {
   "cell_type": "code",
   "execution_count": 145,
   "id": "intensive-reply",
   "metadata": {},
   "outputs": [
    {
     "data": {
      "text/plain": [
       "[{'title': 'プログラミング学習の相談',\n",
       "  'price': 30000,\n",
       "  'link': 'https://scraping.official.ec/items/40792108',\n",
       "  'is_stock': '在庫あり'},\n",
       " {'title': '顧問 & アドバイザリー',\n",
       "  'price': 100000,\n",
       "  'link': 'https://scraping.official.ec/items/40792153',\n",
       "  'is_stock': '在庫あり'},\n",
       " {'title': 'Udemy講座まとめ買いパック',\n",
       "  'price': 8000,\n",
       "  'link': 'https://scraping.official.ec/items/40792284',\n",
       "  'is_stock': '在庫あり'},\n",
       " {'title': 'YouTubeコンサルティング',\n",
       "  'price': 15000,\n",
       "  'link': 'https://scraping.official.ec/items/40792454',\n",
       "  'is_stock': '在庫なし'}]"
      ]
     },
     "execution_count": 145,
     "metadata": {},
     "output_type": "execute_result"
    }
   ],
   "source": [
    "data_ec"
   ]
  },
  {
   "cell_type": "markdown",
   "id": "constitutional-variety",
   "metadata": {},
   "source": [
    "## ■ 一連の流れを関数化\n",
    "### Udemy"
   ]
  },
  {
   "cell_type": "code",
   "execution_count": 126,
   "id": "native-assurance",
   "metadata": {},
   "outputs": [],
   "source": [
    "def get_data_udemy():\n",
    "    data_udemy = {}\n",
    "    url = 'https://scraping-for-beginner.herokuapp.com/udemy'\n",
    "    res = requests.get(url)\n",
    "\n",
    "    soup = BeautifulSoup(res.text, 'html.parser')\n",
    "    soup.find_all('p', {'class': 'subscribers'})\n",
    "\n",
    "    n_subscriber = soup.find('p', {'class': 'subscribers'}).text\n",
    "    n_subscriber = int(n_subscriber.split('：')[1])\n",
    "\n",
    "    n_review = soup.find('p', {'class': 'reviews'}).text\n",
    "    n_review = int(n_review.split('：')[1])\n",
    "    return {\n",
    "        'n_subscriber': n_subscriber,\n",
    "        'n_review': n_review\n",
    "    }"
   ]
  },
  {
   "cell_type": "code",
   "execution_count": 127,
   "id": "entertaining-bulgaria",
   "metadata": {},
   "outputs": [
    {
     "data": {
      "text/plain": [
       "{'n_subscriber': 11323, 'n_review': 1956}"
      ]
     },
     "execution_count": 127,
     "metadata": {},
     "output_type": "execute_result"
    }
   ],
   "source": [
    "get_data_udemy()"
   ]
  },
  {
   "cell_type": "markdown",
   "id": "regulated-philadelphia",
   "metadata": {},
   "source": [
    "### ECサイト"
   ]
  },
  {
   "cell_type": "code",
   "execution_count": 146,
   "id": "rolled-concentrate",
   "metadata": {},
   "outputs": [],
   "source": [
    "def get_data_ec():\n",
    "    url_ec = 'http://scraping.official.ec/'\n",
    "    res = requests.get(url_ec)\n",
    "    soup = BeautifulSoup(res.text, 'html.parser')\n",
    "    itemList = soup.find('ul', {'id': 'itemList'})\n",
    "\n",
    "    data_ec = []\n",
    "    items = itemList.find_all('li')\n",
    "    for item in items:\n",
    "        datum_ec = {}\n",
    "        datum_ec['title'] = item.find('p', {'class': 'items-grid_itemTitleText_b58666da'}).text\n",
    "        price = item.find('p', {'class': 'items-grid_price_b58666da'}).text\n",
    "        datum_ec['price'] = int(price.replace('¥ ', '').replace(',', ''))\n",
    "        datum_ec['link'] = item.find('a')['href']\n",
    "        is_stock = item.find('p', {'class': 'items-grid_soldOut_b58666da'}) == None\n",
    "        datum_ec['is_stock'] = '在庫あり' if is_stock == True else '在庫なし'\n",
    "        data_ec.append(datum_ec)\n",
    "    \n",
    "    df_ec = pd.DataFrame(data_ec)\n",
    "    return df_ec"
   ]
  },
  {
   "cell_type": "code",
   "execution_count": 147,
   "id": "corporate-victory",
   "metadata": {},
   "outputs": [
    {
     "data": {
      "text/html": [
       "<div>\n",
       "<style scoped>\n",
       "    .dataframe tbody tr th:only-of-type {\n",
       "        vertical-align: middle;\n",
       "    }\n",
       "\n",
       "    .dataframe tbody tr th {\n",
       "        vertical-align: top;\n",
       "    }\n",
       "\n",
       "    .dataframe thead th {\n",
       "        text-align: right;\n",
       "    }\n",
       "</style>\n",
       "<table border=\"1\" class=\"dataframe\">\n",
       "  <thead>\n",
       "    <tr style=\"text-align: right;\">\n",
       "      <th></th>\n",
       "      <th>title</th>\n",
       "      <th>price</th>\n",
       "      <th>link</th>\n",
       "      <th>is_stock</th>\n",
       "    </tr>\n",
       "  </thead>\n",
       "  <tbody>\n",
       "    <tr>\n",
       "      <th>0</th>\n",
       "      <td>プログラミング学習の相談</td>\n",
       "      <td>30000</td>\n",
       "      <td>https://scraping.official.ec/items/40792108</td>\n",
       "      <td>在庫あり</td>\n",
       "    </tr>\n",
       "    <tr>\n",
       "      <th>1</th>\n",
       "      <td>顧問 &amp; アドバイザリー</td>\n",
       "      <td>100000</td>\n",
       "      <td>https://scraping.official.ec/items/40792153</td>\n",
       "      <td>在庫あり</td>\n",
       "    </tr>\n",
       "    <tr>\n",
       "      <th>2</th>\n",
       "      <td>Udemy講座まとめ買いパック</td>\n",
       "      <td>8000</td>\n",
       "      <td>https://scraping.official.ec/items/40792284</td>\n",
       "      <td>在庫あり</td>\n",
       "    </tr>\n",
       "    <tr>\n",
       "      <th>3</th>\n",
       "      <td>YouTubeコンサルティング</td>\n",
       "      <td>15000</td>\n",
       "      <td>https://scraping.official.ec/items/40792454</td>\n",
       "      <td>在庫なし</td>\n",
       "    </tr>\n",
       "  </tbody>\n",
       "</table>\n",
       "</div>"
      ],
      "text/plain": [
       "             title   price                                         link  \\\n",
       "0     プログラミング学習の相談   30000  https://scraping.official.ec/items/40792108   \n",
       "1     顧問 & アドバイザリー  100000  https://scraping.official.ec/items/40792153   \n",
       "2  Udemy講座まとめ買いパック    8000  https://scraping.official.ec/items/40792284   \n",
       "3  YouTubeコンサルティング   15000  https://scraping.official.ec/items/40792454   \n",
       "\n",
       "  is_stock  \n",
       "0     在庫あり  \n",
       "1     在庫あり  \n",
       "2     在庫あり  \n",
       "3     在庫なし  "
      ]
     },
     "execution_count": 147,
     "metadata": {},
     "output_type": "execute_result"
    }
   ],
   "source": [
    "get_data_ec()"
   ]
  },
  {
   "cell_type": "markdown",
   "id": "legitimate-sarah",
   "metadata": {},
   "source": [
    "## ■ APIの有効化\n",
    "\n",
    "- プロジェクトを新規作成\n",
    "- Google Drive APIを有効化\n",
    "- Google Sheets APIを有効化\n",
    "- 認証情報を設定\n",
    "\n",
    "\n",
    "以下を参考にAPIの有効化等を進める  \n",
    "https://tanuhack.com/python/operate-spreadsheet/#Google_Sheets_API\n",
    "\n",
    "参考サイト  \n",
    "https://tanuhack.com/python/library-gspread/\n",
    "\n",
    "## ■ シートを共有\n",
    "\n",
    "https://docs.google.com/spreadsheets/d/1WR2V-m104msfrF--9U7S71VY8KeJ3lVZVhtsdFxs6EY/edit?usp=sharing"
   ]
  },
  {
   "cell_type": "markdown",
   "id": "characteristic-berkeley",
   "metadata": {},
   "source": [
    "\n",
    "## ■ 認証\n",
    "\n",
    "- gspread：Python3.X系でもスプレッドシートを操作できるライブラリ\n",
    "- oauth2client：Googleの各種APIへアクセスできるようにするライブラリ\n"
   ]
  },
  {
   "cell_type": "code",
   "execution_count": null,
   "id": "developed-ending",
   "metadata": {},
   "outputs": [],
   "source": [
    "!pip install gspread\n",
    "!pip install oauth2client"
   ]
  },
  {
   "cell_type": "code",
   "execution_count": 240,
   "id": "brutal-reason",
   "metadata": {},
   "outputs": [],
   "source": [
    "# import gspread\n",
    "# from oauth2client.service_account import ServiceAccountCredentials\n",
    "# import json"
   ]
  },
  {
   "cell_type": "code",
   "execution_count": 250,
   "id": "elegant-aberdeen",
   "metadata": {},
   "outputs": [],
   "source": [
    "from google.oauth2.service_account import Credentials\n",
    "\n",
    "scopes = [\n",
    "    'https://www.googleapis.com/auth/spreadsheets',\n",
    "    'https://www.googleapis.com/auth/drive'\n",
    "]\n",
    "\n",
    "credentials = Credentials.from_service_account_file(\n",
    "    'service_account.json',\n",
    "    scopes=scopes\n",
    ")\n",
    "\n",
    "gc = gspread.authorize(credentials)"
   ]
  },
  {
   "cell_type": "markdown",
   "id": "fitted-cheat",
   "metadata": {},
   "source": [
    "## ■ スプレッドシートからデータ取得"
   ]
  },
  {
   "cell_type": "code",
   "execution_count": 251,
   "id": "blank-graduation",
   "metadata": {},
   "outputs": [],
   "source": [
    "SP_SHEET_KEY = '1MlEQ5RfMJanndDRZVdpxRR7QMxThs0nbbvcFUGhovpk'\n",
    "#スプレッドシートの選択(ID)\n",
    "sh = gc.open_by_key(SP_SHEET_KEY)"
   ]
  },
  {
   "cell_type": "code",
   "execution_count": 252,
   "id": "every-observation",
   "metadata": {},
   "outputs": [],
   "source": [
    "SP_SHEET = 'db'\n",
    "worksheet = sh.worksheet(SP_SHEET)"
   ]
  },
  {
   "cell_type": "code",
   "execution_count": 253,
   "id": "moving-huntington",
   "metadata": {},
   "outputs": [],
   "source": [
    "# シート内のデータ全取得\n",
    "data= worksheet.get_all_values()"
   ]
  },
  {
   "cell_type": "code",
   "execution_count": 255,
   "id": "young-european",
   "metadata": {},
   "outputs": [
    {
     "data": {
      "text/plain": [
       "[['date', 'n_subscriber', 'n_review'],\n",
       " ['2021/03/09', '11032', '1882'],\n",
       " ['2021/03/10', '11049', '1885']]"
      ]
     },
     "execution_count": 255,
     "metadata": {},
     "output_type": "execute_result"
    }
   ],
   "source": [
    "data[:3]"
   ]
  },
  {
   "cell_type": "code",
   "execution_count": 258,
   "id": "original-cruise",
   "metadata": {},
   "outputs": [
    {
     "data": {
      "text/html": [
       "<div>\n",
       "<style scoped>\n",
       "    .dataframe tbody tr th:only-of-type {\n",
       "        vertical-align: middle;\n",
       "    }\n",
       "\n",
       "    .dataframe tbody tr th {\n",
       "        vertical-align: top;\n",
       "    }\n",
       "\n",
       "    .dataframe thead th {\n",
       "        text-align: right;\n",
       "    }\n",
       "</style>\n",
       "<table border=\"1\" class=\"dataframe\">\n",
       "  <thead>\n",
       "    <tr style=\"text-align: right;\">\n",
       "      <th></th>\n",
       "      <th>date</th>\n",
       "      <th>n_subscriber</th>\n",
       "      <th>n_review</th>\n",
       "    </tr>\n",
       "  </thead>\n",
       "  <tbody>\n",
       "    <tr>\n",
       "      <th>0</th>\n",
       "      <td>2021/03/09</td>\n",
       "      <td>11032</td>\n",
       "      <td>1882</td>\n",
       "    </tr>\n",
       "    <tr>\n",
       "      <th>1</th>\n",
       "      <td>2021/03/10</td>\n",
       "      <td>11049</td>\n",
       "      <td>1885</td>\n",
       "    </tr>\n",
       "    <tr>\n",
       "      <th>2</th>\n",
       "      <td>2021/03/11</td>\n",
       "      <td>11068</td>\n",
       "      <td>1889</td>\n",
       "    </tr>\n",
       "  </tbody>\n",
       "</table>\n",
       "</div>"
      ],
      "text/plain": [
       "         date n_subscriber n_review\n",
       "0  2021/03/09        11032     1882\n",
       "1  2021/03/10        11049     1885\n",
       "2  2021/03/11        11068     1889"
      ]
     },
     "execution_count": 258,
     "metadata": {},
     "output_type": "execute_result"
    }
   ],
   "source": [
    "df = pd.DataFrame(data[1:], columns=data[0])\n",
    "df[:3]"
   ]
  },
  {
   "cell_type": "markdown",
   "id": "judicial-shade",
   "metadata": {},
   "source": [
    "## ■ データの更新"
   ]
  },
  {
   "cell_type": "code",
   "execution_count": 259,
   "id": "turkish-check",
   "metadata": {},
   "outputs": [
    {
     "data": {
      "text/plain": [
       "{'n_subscriber': 11343, 'n_review': 1958}"
      ]
     },
     "execution_count": 259,
     "metadata": {},
     "output_type": "execute_result"
    }
   ],
   "source": [
    "data_udemy = get_data_udemy()\n",
    "data_udemy"
   ]
  },
  {
   "cell_type": "code",
   "execution_count": 260,
   "id": "green-print",
   "metadata": {},
   "outputs": [],
   "source": [
    "import datetime"
   ]
  },
  {
   "cell_type": "code",
   "execution_count": 261,
   "id": "recorded-immune",
   "metadata": {},
   "outputs": [
    {
     "data": {
      "text/plain": [
       "datetime.date(2021, 4, 8)"
      ]
     },
     "execution_count": 261,
     "metadata": {},
     "output_type": "execute_result"
    }
   ],
   "source": [
    "today = datetime.date.today()\n",
    "today"
   ]
  },
  {
   "cell_type": "code",
   "execution_count": 262,
   "id": "dress-angola",
   "metadata": {},
   "outputs": [
    {
     "data": {
      "text/plain": [
       "{'n_subscriber': 11343, 'n_review': 1958, 'date': '2021/04/08'}"
      ]
     },
     "execution_count": 262,
     "metadata": {},
     "output_type": "execute_result"
    }
   ],
   "source": [
    "data_udemy['date'] = datetime.date.today().strftime('%Y/%m/%d')\n",
    "data_udemy"
   ]
  },
  {
   "cell_type": "code",
   "execution_count": 263,
   "id": "mobile-incentive",
   "metadata": {},
   "outputs": [],
   "source": [
    "df = df.append(data_udemy, ignore_index=True)"
   ]
  },
  {
   "cell_type": "code",
   "execution_count": 265,
   "id": "bulgarian-phoenix",
   "metadata": {},
   "outputs": [
    {
     "data": {
      "text/html": [
       "<div>\n",
       "<style scoped>\n",
       "    .dataframe tbody tr th:only-of-type {\n",
       "        vertical-align: middle;\n",
       "    }\n",
       "\n",
       "    .dataframe tbody tr th {\n",
       "        vertical-align: top;\n",
       "    }\n",
       "\n",
       "    .dataframe thead th {\n",
       "        text-align: right;\n",
       "    }\n",
       "</style>\n",
       "<table border=\"1\" class=\"dataframe\">\n",
       "  <thead>\n",
       "    <tr style=\"text-align: right;\">\n",
       "      <th></th>\n",
       "      <th>date</th>\n",
       "      <th>n_subscriber</th>\n",
       "      <th>n_review</th>\n",
       "    </tr>\n",
       "  </thead>\n",
       "  <tbody>\n",
       "    <tr>\n",
       "      <th>0</th>\n",
       "      <td>2021/03/09</td>\n",
       "      <td>11032</td>\n",
       "      <td>1882</td>\n",
       "    </tr>\n",
       "    <tr>\n",
       "      <th>1</th>\n",
       "      <td>2021/03/10</td>\n",
       "      <td>11049</td>\n",
       "      <td>1885</td>\n",
       "    </tr>\n",
       "    <tr>\n",
       "      <th>2</th>\n",
       "      <td>2021/03/11</td>\n",
       "      <td>11068</td>\n",
       "      <td>1889</td>\n",
       "    </tr>\n",
       "  </tbody>\n",
       "</table>\n",
       "</div>"
      ],
      "text/plain": [
       "         date n_subscriber n_review\n",
       "0  2021/03/09        11032     1882\n",
       "1  2021/03/10        11049     1885\n",
       "2  2021/03/11        11068     1889"
      ]
     },
     "execution_count": 265,
     "metadata": {},
     "output_type": "execute_result"
    }
   ],
   "source": [
    "df[:3]"
   ]
  },
  {
   "cell_type": "markdown",
   "id": "liable-israel",
   "metadata": {},
   "source": [
    "gspreadだけだとサクッとDataFrameをスプレッドシートに反映できない、、、  \n",
    "そのため、gspread-dataframeをインストールする。"
   ]
  },
  {
   "cell_type": "code",
   "execution_count": 267,
   "id": "dangerous-groove",
   "metadata": {
    "collapsed": true,
    "jupyter": {
     "outputs_hidden": true
    }
   },
   "outputs": [
    {
     "name": "stdout",
     "output_type": "stream",
     "text": [
      "Collecting gspread-dataframe\n",
      "  Downloading gspread_dataframe-3.2.1-py2.py3-none-any.whl (7.8 kB)\n",
      "Requirement already satisfied: pandas>=0.24.0 in /usr/local/lib/python3.9/site-packages (from gspread-dataframe) (1.2.1)\n",
      "Requirement already satisfied: gspread>=3.0.0 in /usr/local/lib/python3.9/site-packages (from gspread-dataframe) (3.7.0)\n",
      "Requirement already satisfied: six>=1.12.0 in /usr/local/lib/python3.9/site-packages (from gspread-dataframe) (1.15.0)\n",
      "Requirement already satisfied: google-auth>=1.12.0 in /usr/local/lib/python3.9/site-packages (from gspread>=3.0.0->gspread-dataframe) (1.27.0)\n",
      "Requirement already satisfied: google-auth-oauthlib>=0.4.1 in /usr/local/lib/python3.9/site-packages (from gspread>=3.0.0->gspread-dataframe) (0.4.3)\n",
      "Requirement already satisfied: cachetools<5.0,>=2.0.0 in /usr/local/lib/python3.9/site-packages (from google-auth>=1.12.0->gspread>=3.0.0->gspread-dataframe) (4.2.1)\n",
      "Requirement already satisfied: setuptools>=40.3.0 in /usr/local/lib/python3.9/site-packages (from google-auth>=1.12.0->gspread>=3.0.0->gspread-dataframe) (54.1.2)\n",
      "Requirement already satisfied: pyasn1-modules>=0.2.1 in /usr/local/lib/python3.9/site-packages (from google-auth>=1.12.0->gspread>=3.0.0->gspread-dataframe) (0.2.8)\n",
      "Requirement already satisfied: rsa<5,>=3.1.4 in /usr/local/lib/python3.9/site-packages (from google-auth>=1.12.0->gspread>=3.0.0->gspread-dataframe) (4.7.2)\n",
      "Requirement already satisfied: requests-oauthlib>=0.7.0 in /usr/local/lib/python3.9/site-packages (from google-auth-oauthlib>=0.4.1->gspread>=3.0.0->gspread-dataframe) (1.3.0)\n",
      "Requirement already satisfied: numpy>=1.16.5 in /usr/local/lib/python3.9/site-packages (from pandas>=0.24.0->gspread-dataframe) (1.20.0)\n",
      "Requirement already satisfied: pytz>=2017.3 in /usr/local/lib/python3.9/site-packages (from pandas>=0.24.0->gspread-dataframe) (2021.1)\n",
      "Requirement already satisfied: python-dateutil>=2.7.3 in /usr/local/lib/python3.9/site-packages (from pandas>=0.24.0->gspread-dataframe) (2.8.1)\n",
      "Requirement already satisfied: pyasn1<0.5.0,>=0.4.6 in /usr/local/lib/python3.9/site-packages (from pyasn1-modules>=0.2.1->google-auth>=1.12.0->gspread>=3.0.0->gspread-dataframe) (0.4.8)\n",
      "Requirement already satisfied: requests>=2.0.0 in /usr/local/lib/python3.9/site-packages (from requests-oauthlib>=0.7.0->google-auth-oauthlib>=0.4.1->gspread>=3.0.0->gspread-dataframe) (2.25.1)\n",
      "Requirement already satisfied: oauthlib>=3.0.0 in /usr/local/lib/python3.9/site-packages (from requests-oauthlib>=0.7.0->google-auth-oauthlib>=0.4.1->gspread>=3.0.0->gspread-dataframe) (3.1.0)\n",
      "Requirement already satisfied: urllib3<1.27,>=1.21.1 in /usr/local/lib/python3.9/site-packages (from requests>=2.0.0->requests-oauthlib>=0.7.0->google-auth-oauthlib>=0.4.1->gspread>=3.0.0->gspread-dataframe) (1.26.3)\n",
      "Requirement already satisfied: chardet<5,>=3.0.2 in /usr/local/lib/python3.9/site-packages (from requests>=2.0.0->requests-oauthlib>=0.7.0->google-auth-oauthlib>=0.4.1->gspread>=3.0.0->gspread-dataframe) (4.0.0)\n",
      "Requirement already satisfied: idna<3,>=2.5 in /usr/local/lib/python3.9/site-packages (from requests>=2.0.0->requests-oauthlib>=0.7.0->google-auth-oauthlib>=0.4.1->gspread>=3.0.0->gspread-dataframe) (2.10)\n",
      "Requirement already satisfied: certifi>=2017.4.17 in /usr/local/lib/python3.9/site-packages (from requests>=2.0.0->requests-oauthlib>=0.7.0->google-auth-oauthlib>=0.4.1->gspread>=3.0.0->gspread-dataframe) (2020.12.5)\n",
      "Installing collected packages: gspread-dataframe\n",
      "Successfully installed gspread-dataframe-3.2.1\n"
     ]
    }
   ],
   "source": [
    "!pip3 install gspread-dataframe"
   ]
  },
  {
   "cell_type": "code",
   "execution_count": 268,
   "id": "positive-biology",
   "metadata": {},
   "outputs": [],
   "source": [
    "from gspread_dataframe import get_as_dataframe, set_with_dataframe"
   ]
  },
  {
   "cell_type": "code",
   "execution_count": 270,
   "id": "complete-acceptance",
   "metadata": {},
   "outputs": [],
   "source": [
    "# 値を書き込む左上のセル番号\n",
    "first_row = 1\n",
    "first_col = 1"
   ]
  },
  {
   "cell_type": "code",
   "execution_count": 272,
   "id": "posted-directory",
   "metadata": {},
   "outputs": [],
   "source": [
    "set_with_dataframe(worksheet, df, row=first_row, col=first_col)"
   ]
  },
  {
   "cell_type": "markdown",
   "id": "first-papua",
   "metadata": {},
   "source": [
    "## ■ グラフ化の準備"
   ]
  },
  {
   "cell_type": "code",
   "execution_count": 210,
   "id": "arctic-oklahoma",
   "metadata": {},
   "outputs": [
    {
     "data": {
      "text/html": [
       "<div>\n",
       "<style scoped>\n",
       "    .dataframe tbody tr th:only-of-type {\n",
       "        vertical-align: middle;\n",
       "    }\n",
       "\n",
       "    .dataframe tbody tr th {\n",
       "        vertical-align: top;\n",
       "    }\n",
       "\n",
       "    .dataframe thead th {\n",
       "        text-align: right;\n",
       "    }\n",
       "</style>\n",
       "<table border=\"1\" class=\"dataframe\">\n",
       "  <thead>\n",
       "    <tr style=\"text-align: right;\">\n",
       "      <th></th>\n",
       "      <th>date</th>\n",
       "      <th>n_subscriber</th>\n",
       "      <th>n_review</th>\n",
       "    </tr>\n",
       "  </thead>\n",
       "  <tbody>\n",
       "    <tr>\n",
       "      <th>0</th>\n",
       "      <td>2021/03/09</td>\n",
       "      <td>11032</td>\n",
       "      <td>1882</td>\n",
       "    </tr>\n",
       "    <tr>\n",
       "      <th>1</th>\n",
       "      <td>2021/03/10</td>\n",
       "      <td>11049</td>\n",
       "      <td>1885</td>\n",
       "    </tr>\n",
       "    <tr>\n",
       "      <th>2</th>\n",
       "      <td>2021/03/11</td>\n",
       "      <td>11068</td>\n",
       "      <td>1889</td>\n",
       "    </tr>\n",
       "  </tbody>\n",
       "</table>\n",
       "</div>"
      ],
      "text/plain": [
       "         date  n_subscriber  n_review\n",
       "0  2021/03/09         11032      1882\n",
       "1  2021/03/10         11049      1885\n",
       "2  2021/03/11         11068      1889"
      ]
     },
     "execution_count": 210,
     "metadata": {},
     "output_type": "execute_result"
    }
   ],
   "source": [
    "df_udemy = pd.read_csv('data.csv')\n",
    "df_udemy[:3]"
   ]
  },
  {
   "cell_type": "markdown",
   "id": "medical-monthly",
   "metadata": {},
   "source": [
    "2軸のグラフの書き方を調べた  \n",
    "`python altair 2 axis`"
   ]
  },
  {
   "cell_type": "code",
   "execution_count": 238,
   "id": "sharp-liabilities",
   "metadata": {},
   "outputs": [],
   "source": [
    "ymin1 = df_udemy['n_subscriber'].min() - 10\n",
    "ymax1 = df_udemy['n_subscriber'].max() + 10\n",
    "\n",
    "ymin2 = df_udemy['n_review'].min() - 10\n",
    "ymax2 = df_udemy['n_review'].max() + 10"
   ]
  },
  {
   "cell_type": "code",
   "execution_count": 239,
   "id": "comprehensive-adult",
   "metadata": {},
   "outputs": [
    {
     "data": {
      "text/html": [
       "\n",
       "<div id=\"altair-viz-732ea37726064a259e6fb3558fed74ce\"></div>\n",
       "<script type=\"text/javascript\">\n",
       "  (function(spec, embedOpt){\n",
       "    let outputDiv = document.currentScript.previousElementSibling;\n",
       "    if (outputDiv.id !== \"altair-viz-732ea37726064a259e6fb3558fed74ce\") {\n",
       "      outputDiv = document.getElementById(\"altair-viz-732ea37726064a259e6fb3558fed74ce\");\n",
       "    }\n",
       "    const paths = {\n",
       "      \"vega\": \"https://cdn.jsdelivr.net/npm//vega@5?noext\",\n",
       "      \"vega-lib\": \"https://cdn.jsdelivr.net/npm//vega-lib?noext\",\n",
       "      \"vega-lite\": \"https://cdn.jsdelivr.net/npm//vega-lite@4.8.1?noext\",\n",
       "      \"vega-embed\": \"https://cdn.jsdelivr.net/npm//vega-embed@6?noext\",\n",
       "    };\n",
       "\n",
       "    function loadScript(lib) {\n",
       "      return new Promise(function(resolve, reject) {\n",
       "        var s = document.createElement('script');\n",
       "        s.src = paths[lib];\n",
       "        s.async = true;\n",
       "        s.onload = () => resolve(paths[lib]);\n",
       "        s.onerror = () => reject(`Error loading script: ${paths[lib]}`);\n",
       "        document.getElementsByTagName(\"head\")[0].appendChild(s);\n",
       "      });\n",
       "    }\n",
       "\n",
       "    function showError(err) {\n",
       "      outputDiv.innerHTML = `<div class=\"error\" style=\"color:red;\">${err}</div>`;\n",
       "      throw err;\n",
       "    }\n",
       "\n",
       "    function displayChart(vegaEmbed) {\n",
       "      vegaEmbed(outputDiv, spec, embedOpt)\n",
       "        .catch(err => showError(`Javascript Error: ${err.message}<br>This usually means there's a typo in your chart specification. See the javascript console for the full traceback.`));\n",
       "    }\n",
       "\n",
       "    if(typeof define === \"function\" && define.amd) {\n",
       "      requirejs.config({paths});\n",
       "      require([\"vega-embed\"], displayChart, err => showError(`Error loading script: ${err.message}`));\n",
       "    } else if (typeof vegaEmbed === \"function\") {\n",
       "      displayChart(vegaEmbed);\n",
       "    } else {\n",
       "      loadScript(\"vega\")\n",
       "        .then(() => loadScript(\"vega-lite\"))\n",
       "        .then(() => loadScript(\"vega-embed\"))\n",
       "        .catch(showError)\n",
       "        .then(() => displayChart(vegaEmbed));\n",
       "    }\n",
       "  })({\"config\": {\"view\": {\"continuousWidth\": 400, \"continuousHeight\": 300}}, \"layer\": [{\"mark\": {\"type\": \"line\", \"color\": \"#57A44C\", \"opacity\": 0.3}, \"encoding\": {\"x\": {\"type\": \"temporal\", \"axis\": {\"title\": null}, \"field\": \"date\"}, \"y\": {\"type\": \"quantitative\", \"axis\": {\"title\": \"\\u767b\\u9332\\u8005\\u6570\", \"titleColor\": \"#57A44C\"}, \"field\": \"n_subscriber\", \"scale\": {\"domain\": [11022.0, 11318.0]}}}}, {\"mark\": {\"type\": \"line\", \"interpolate\": \"monotone\", \"stroke\": \"#5276A7\"}, \"encoding\": {\"x\": {\"type\": \"temporal\", \"axis\": {\"title\": null}, \"field\": \"date\"}, \"y\": {\"type\": \"quantitative\", \"axis\": {\"title\": \"\\u30ec\\u30d3\\u30e5\\u30fc\\u6570\", \"titleColor\": \"#5276A7\"}, \"field\": \"n_review\", \"scale\": {\"domain\": [1872.0, 1965.0]}}}}], \"data\": {\"name\": \"data-541ea6e15c221dbce786232d05215c58\"}, \"resolve\": {\"scale\": {\"y\": \"independent\"}}, \"$schema\": \"https://vega.github.io/schema/vega-lite/v4.8.1.json\", \"datasets\": {\"data-541ea6e15c221dbce786232d05215c58\": [{\"date\": \"2021/03/09\", \"n_subscriber\": 11032, \"n_review\": 1882}, {\"date\": \"2021/03/10\", \"n_subscriber\": 11049, \"n_review\": 1885}, {\"date\": \"2021/03/11\", \"n_subscriber\": 11068, \"n_review\": 1889}, {\"date\": \"2021/03/12\", \"n_subscriber\": 11070, \"n_review\": 1891}, {\"date\": \"2021/03/13\", \"n_subscriber\": 11074, \"n_review\": 1894}, {\"date\": \"2021/03/14\", \"n_subscriber\": 11075, \"n_review\": 1898}, {\"date\": \"2021/03/15\", \"n_subscriber\": 11093, \"n_review\": 1903}, {\"date\": \"2021/03/16\", \"n_subscriber\": 11095, \"n_review\": 1904}, {\"date\": \"2021/03/17\", \"n_subscriber\": 11114, \"n_review\": 1909}, {\"date\": \"2021/03/18\", \"n_subscriber\": 11123, \"n_review\": 1911}, {\"date\": \"2021/03/19\", \"n_subscriber\": 11143, \"n_review\": 1916}, {\"date\": \"2021/03/20\", \"n_subscriber\": 11158, \"n_review\": 1921}, {\"date\": \"2021/03/21\", \"n_subscriber\": 11158, \"n_review\": 1922}, {\"date\": \"2021/03/22\", \"n_subscriber\": 11164, \"n_review\": 1925}, {\"date\": \"2021/03/23\", \"n_subscriber\": 11176, \"n_review\": 1928}, {\"date\": \"2021/03/24\", \"n_subscriber\": 11182, \"n_review\": 1928}, {\"date\": \"2021/03/25\", \"n_subscriber\": 11197, \"n_review\": 1930}, {\"date\": \"2021/03/26\", \"n_subscriber\": 11202, \"n_review\": 1930}, {\"date\": \"2021/03/27\", \"n_subscriber\": 11213, \"n_review\": 1934}, {\"date\": \"2021/03/28\", \"n_subscriber\": 11216, \"n_review\": 1935}, {\"date\": \"2021/03/29\", \"n_subscriber\": 11227, \"n_review\": 1936}, {\"date\": \"2021/03/30\", \"n_subscriber\": 11246, \"n_review\": 1939}, {\"date\": \"2021/03/31\", \"n_subscriber\": 11260, \"n_review\": 1939}, {\"date\": \"2021/04/01\", \"n_subscriber\": 11260, \"n_review\": 1939}, {\"date\": \"2021/04/02\", \"n_subscriber\": 11261, \"n_review\": 1942}, {\"date\": \"2021/04/03\", \"n_subscriber\": 11274, \"n_review\": 1944}, {\"date\": \"2021/04/04\", \"n_subscriber\": 11287, \"n_review\": 1946}, {\"date\": \"2021/04/05\", \"n_subscriber\": 11295, \"n_review\": 1948}, {\"date\": \"2021/04/06\", \"n_subscriber\": 11296, \"n_review\": 1950}, {\"date\": \"2021/04/07\", \"n_subscriber\": 11306, \"n_review\": 1955}, {\"date\": \"2021/04/08\", \"n_subscriber\": 11308, \"n_review\": 1955}]}}, {\"mode\": \"vega-lite\"});\n",
       "</script>"
      ],
      "text/plain": [
       "alt.LayerChart(...)"
      ]
     },
     "execution_count": 239,
     "metadata": {},
     "output_type": "execute_result"
    }
   ],
   "source": [
    "base = alt.Chart(df_udemy).encode(\n",
    "    alt.X('date:T', axis=alt.Axis(title=None))\n",
    ")\n",
    "\n",
    "line1 = base.mark_line(opacity=0.3, color='#57A44C').encode(\n",
    "    alt.Y('n_subscriber',\n",
    "          axis=alt.Axis(title='登録者数', titleColor='#57A44C'),\n",
    "          scale=alt.Scale(domain=[ymin1, ymax1]))\n",
    ")\n",
    "\n",
    "line2 = base.mark_line(stroke='#5276A7', interpolate='monotone').encode(\n",
    "    alt.Y('n_review',\n",
    "          axis=alt.Axis(title='レビュー数', titleColor='#5276A7'),\n",
    "          scale=alt.Scale(domain=[ymin2, ymax2]))\n",
    ")\n",
    "\n",
    "chart = alt.layer(line1, line2).resolve_scale(\n",
    "    y = 'independent'\n",
    ")\n",
    "\n",
    "chart"
   ]
  },
  {
   "cell_type": "markdown",
   "id": "sacred-nelson",
   "metadata": {},
   "source": [
    "## ■ スクリプトファイルにまとめる\n",
    "\n",
    "- 毎日定期更新し、データを更新するための処理を `scraping.py` にまとめる。\n",
    "- アプリケーションに必要な部分を `app.py` にまとめる"
   ]
  },
  {
   "cell_type": "markdown",
   "id": "extra-accessory",
   "metadata": {},
   "source": [
    "\n",
    "## ■ GitHub Actionsで定期更新\n",
    "\n",
    "- アカウントの準備（アカウント作成）\n",
    "- git init\n",
    "- git remote add origin https://github.com/imanyun/sample-chatbot.git\n",
    "- git add .\n",
    "- git commit -m '1st commit'\n",
    "- git push origin master\n",
    "\n",
    "\n",
    "- main.ymlを作る\n",
    "\n",
    "```yml\n",
    "on:\n",
    "  push:\n",
    "```\n",
    "を先に\n",
    "\n",
    "\n",
    "```yml\n",
    "# ワークフロー名\n",
    "name: test_line_notify\n",
    "\n",
    "# 発火タイミング\n",
    "on:\n",
    "  schedule:\n",
    "    - cron: '0 22 * * *'\n",
    "\n",
    "jobs:\n",
    "  build:\n",
    "    # Ubuntuの最新版環境内で処理\n",
    "    runs-on: ubuntu-latest\n",
    "\n",
    "    # 実行する処理＆コマンド指定\n",
    "    steps:\n",
    "      - uses: actions/checkout@v2\n",
    "      - name: Set up Python 3.8\n",
    "        uses: actions/setup-python@v1\n",
    "        with:\n",
    "          python-version: 3.8\n",
    "      - name: Install dependencies\n",
    "        run: |\n",
    "          python -m pip install --upgrade pip\n",
    "          pip install -r requirements.txt\n",
    "      - name: Run script\n",
    "        run: |\n",
    "          # main.pyの実行\n",
    "          python scraping.py\n",
    "\n",
    "```"
   ]
  },
  {
   "cell_type": "code",
   "execution_count": null,
   "id": "light-marathon",
   "metadata": {},
   "outputs": [],
   "source": []
  },
  {
   "cell_type": "code",
   "execution_count": null,
   "id": "bigger-swimming",
   "metadata": {},
   "outputs": [],
   "source": []
  },
  {
   "cell_type": "code",
   "execution_count": null,
   "id": "nasty-steam",
   "metadata": {},
   "outputs": [],
   "source": []
  },
  {
   "cell_type": "code",
   "execution_count": null,
   "id": "rolled-standing",
   "metadata": {},
   "outputs": [],
   "source": []
  },
  {
   "cell_type": "code",
   "execution_count": null,
   "id": "foreign-virus",
   "metadata": {},
   "outputs": [],
   "source": []
  },
  {
   "cell_type": "code",
   "execution_count": null,
   "id": "constitutional-hindu",
   "metadata": {},
   "outputs": [],
   "source": []
  },
  {
   "cell_type": "code",
   "execution_count": null,
   "id": "familiar-torture",
   "metadata": {},
   "outputs": [],
   "source": []
  },
  {
   "cell_type": "code",
   "execution_count": null,
   "id": "inner-defense",
   "metadata": {},
   "outputs": [],
   "source": []
  },
  {
   "cell_type": "code",
   "execution_count": null,
   "id": "backed-smoke",
   "metadata": {},
   "outputs": [],
   "source": []
  },
  {
   "cell_type": "code",
   "execution_count": null,
   "id": "sound-scout",
   "metadata": {},
   "outputs": [],
   "source": []
  },
  {
   "cell_type": "code",
   "execution_count": null,
   "id": "iraqi-death",
   "metadata": {},
   "outputs": [],
   "source": []
  },
  {
   "cell_type": "code",
   "execution_count": null,
   "id": "temporal-tyler",
   "metadata": {},
   "outputs": [],
   "source": []
  },
  {
   "cell_type": "code",
   "execution_count": null,
   "id": "rural-atlantic",
   "metadata": {},
   "outputs": [],
   "source": []
  },
  {
   "cell_type": "code",
   "execution_count": null,
   "id": "seeing-channels",
   "metadata": {},
   "outputs": [],
   "source": []
  },
  {
   "cell_type": "code",
   "execution_count": null,
   "id": "angry-cologne",
   "metadata": {},
   "outputs": [],
   "source": []
  },
  {
   "cell_type": "code",
   "execution_count": null,
   "id": "fluid-storage",
   "metadata": {},
   "outputs": [],
   "source": []
  },
  {
   "cell_type": "code",
   "execution_count": null,
   "id": "tough-mills",
   "metadata": {},
   "outputs": [],
   "source": []
  },
  {
   "cell_type": "code",
   "execution_count": null,
   "id": "collect-enclosure",
   "metadata": {},
   "outputs": [],
   "source": []
  },
  {
   "cell_type": "code",
   "execution_count": null,
   "id": "damaged-rescue",
   "metadata": {},
   "outputs": [],
   "source": []
  },
  {
   "cell_type": "code",
   "execution_count": null,
   "id": "refined-twist",
   "metadata": {},
   "outputs": [],
   "source": []
  },
  {
   "cell_type": "markdown",
   "id": "appropriate-above",
   "metadata": {},
   "source": [
    "## ■ Herokuにデプロイ\n",
    "\n",
    "\n",
    "https://towardsdatascience.com/quickly-build-and-deploy-an-application-with-streamlit-988ca08c7e83\n",
    "\n",
    "\n",
    "- `git init`\n",
    "- `git remote add heroku REPO_URL`\n",
    "- `git add .`\n",
    "- `git commit -m'1st commit'`\n",
    "- `git push heroku master`\n",
    "\n",
    "\n",
    "\n",
    "## ■ Heroku Schedulerによる定期実行\n",
    "\n",
    "\n",
    "- `heroku run bash`\n",
    "\n",
    "heroku環境でコマンドが打てるようになる。  \n",
    "いちいち「heroku run」を打つのがカッタルイ人はbashが立ち上がってから、直にコマンドを打とう。\n",
    "\n",
    "- `ls`\n",
    "\n",
    "## Basic認証\n",
    "\n",
    "https://sitest.jp/blog/?p=9238\n",
    "\n",
    "- `heroku config:set USER=imanyu`\n",
    "- `heroku config:set PASS=udemy`\n",
    "\n",
    "\n"
   ]
  },
  {
   "cell_type": "code",
   "execution_count": null,
   "id": "preliminary-offset",
   "metadata": {},
   "outputs": [],
   "source": []
  },
  {
   "cell_type": "code",
   "execution_count": null,
   "id": "failing-humanitarian",
   "metadata": {},
   "outputs": [],
   "source": []
  },
  {
   "cell_type": "code",
   "execution_count": null,
   "id": "present-imaging",
   "metadata": {},
   "outputs": [],
   "source": []
  },
  {
   "cell_type": "code",
   "execution_count": null,
   "id": "regulation-oxygen",
   "metadata": {},
   "outputs": [],
   "source": []
  },
  {
   "cell_type": "code",
   "execution_count": null,
   "id": "streaming-ambassador",
   "metadata": {},
   "outputs": [],
   "source": []
  },
  {
   "cell_type": "code",
   "execution_count": null,
   "id": "bottom-winner",
   "metadata": {},
   "outputs": [],
   "source": []
  },
  {
   "cell_type": "code",
   "execution_count": null,
   "id": "auburn-catch",
   "metadata": {},
   "outputs": [],
   "source": []
  },
  {
   "cell_type": "code",
   "execution_count": null,
   "id": "controlled-corner",
   "metadata": {},
   "outputs": [],
   "source": []
  },
  {
   "cell_type": "code",
   "execution_count": null,
   "id": "wicked-collect",
   "metadata": {},
   "outputs": [],
   "source": []
  },
  {
   "cell_type": "code",
   "execution_count": null,
   "id": "executive-joshua",
   "metadata": {},
   "outputs": [],
   "source": []
  },
  {
   "cell_type": "code",
   "execution_count": null,
   "id": "integrated-stuart",
   "metadata": {},
   "outputs": [],
   "source": []
  },
  {
   "cell_type": "code",
   "execution_count": null,
   "id": "leading-virginia",
   "metadata": {},
   "outputs": [],
   "source": []
  },
  {
   "cell_type": "code",
   "execution_count": null,
   "id": "different-volunteer",
   "metadata": {},
   "outputs": [],
   "source": []
  },
  {
   "cell_type": "code",
   "execution_count": null,
   "id": "compliant-glucose",
   "metadata": {},
   "outputs": [],
   "source": []
  },
  {
   "cell_type": "code",
   "execution_count": null,
   "id": "final-rebate",
   "metadata": {},
   "outputs": [],
   "source": []
  },
  {
   "cell_type": "code",
   "execution_count": null,
   "id": "miniature-beauty",
   "metadata": {},
   "outputs": [],
   "source": []
  },
  {
   "cell_type": "code",
   "execution_count": null,
   "id": "underlying-burning",
   "metadata": {},
   "outputs": [],
   "source": []
  },
  {
   "cell_type": "code",
   "execution_count": null,
   "id": "global-locking",
   "metadata": {},
   "outputs": [],
   "source": []
  },
  {
   "cell_type": "code",
   "execution_count": null,
   "id": "double-album",
   "metadata": {},
   "outputs": [],
   "source": []
  },
  {
   "cell_type": "code",
   "execution_count": null,
   "id": "persistent-smoke",
   "metadata": {},
   "outputs": [],
   "source": []
  },
  {
   "cell_type": "code",
   "execution_count": null,
   "id": "genetic-medicaid",
   "metadata": {},
   "outputs": [],
   "source": []
  },
  {
   "cell_type": "code",
   "execution_count": null,
   "id": "opposite-migration",
   "metadata": {},
   "outputs": [],
   "source": []
  },
  {
   "cell_type": "code",
   "execution_count": null,
   "id": "pharmaceutical-conspiracy",
   "metadata": {},
   "outputs": [],
   "source": []
  },
  {
   "cell_type": "code",
   "execution_count": null,
   "id": "floppy-deviation",
   "metadata": {},
   "outputs": [],
   "source": []
  },
  {
   "cell_type": "code",
   "execution_count": null,
   "id": "direct-holder",
   "metadata": {},
   "outputs": [],
   "source": []
  },
  {
   "cell_type": "code",
   "execution_count": null,
   "id": "choice-honey",
   "metadata": {},
   "outputs": [],
   "source": []
  },
  {
   "cell_type": "code",
   "execution_count": null,
   "id": "proud-camel",
   "metadata": {},
   "outputs": [],
   "source": []
  },
  {
   "cell_type": "code",
   "execution_count": null,
   "id": "unusual-warrior",
   "metadata": {},
   "outputs": [],
   "source": []
  },
  {
   "cell_type": "code",
   "execution_count": null,
   "id": "generic-holmes",
   "metadata": {},
   "outputs": [],
   "source": []
  },
  {
   "cell_type": "code",
   "execution_count": null,
   "id": "equipped-murder",
   "metadata": {},
   "outputs": [],
   "source": []
  },
  {
   "cell_type": "code",
   "execution_count": null,
   "id": "visible-figure",
   "metadata": {},
   "outputs": [],
   "source": []
  },
  {
   "cell_type": "code",
   "execution_count": null,
   "id": "talented-calendar",
   "metadata": {},
   "outputs": [],
   "source": []
  },
  {
   "cell_type": "code",
   "execution_count": null,
   "id": "adequate-minute",
   "metadata": {},
   "outputs": [],
   "source": []
  },
  {
   "cell_type": "code",
   "execution_count": null,
   "id": "provincial-microwave",
   "metadata": {},
   "outputs": [],
   "source": []
  },
  {
   "cell_type": "code",
   "execution_count": null,
   "id": "literary-jones",
   "metadata": {},
   "outputs": [],
   "source": []
  },
  {
   "cell_type": "code",
   "execution_count": null,
   "id": "absent-serbia",
   "metadata": {},
   "outputs": [],
   "source": []
  },
  {
   "cell_type": "code",
   "execution_count": null,
   "id": "worthy-thing",
   "metadata": {},
   "outputs": [],
   "source": []
  },
  {
   "cell_type": "code",
   "execution_count": null,
   "id": "hundred-arthritis",
   "metadata": {},
   "outputs": [],
   "source": []
  },
  {
   "cell_type": "code",
   "execution_count": null,
   "id": "written-activation",
   "metadata": {},
   "outputs": [],
   "source": []
  },
  {
   "cell_type": "code",
   "execution_count": null,
   "id": "public-string",
   "metadata": {},
   "outputs": [],
   "source": []
  },
  {
   "cell_type": "code",
   "execution_count": null,
   "id": "continued-smell",
   "metadata": {},
   "outputs": [],
   "source": []
  },
  {
   "cell_type": "code",
   "execution_count": null,
   "id": "isolated-approval",
   "metadata": {},
   "outputs": [],
   "source": []
  },
  {
   "cell_type": "code",
   "execution_count": null,
   "id": "regulation-english",
   "metadata": {},
   "outputs": [],
   "source": []
  },
  {
   "cell_type": "code",
   "execution_count": null,
   "id": "pleased-watershed",
   "metadata": {},
   "outputs": [],
   "source": []
  },
  {
   "cell_type": "code",
   "execution_count": null,
   "id": "political-timing",
   "metadata": {},
   "outputs": [],
   "source": []
  },
  {
   "cell_type": "code",
   "execution_count": null,
   "id": "rolled-federation",
   "metadata": {},
   "outputs": [],
   "source": []
  },
  {
   "cell_type": "code",
   "execution_count": null,
   "id": "demonstrated-recipient",
   "metadata": {},
   "outputs": [],
   "source": []
  },
  {
   "cell_type": "code",
   "execution_count": null,
   "id": "amino-stone",
   "metadata": {},
   "outputs": [],
   "source": []
  },
  {
   "cell_type": "code",
   "execution_count": null,
   "id": "thick-sterling",
   "metadata": {},
   "outputs": [],
   "source": []
  },
  {
   "cell_type": "code",
   "execution_count": null,
   "id": "prime-complexity",
   "metadata": {},
   "outputs": [],
   "source": []
  },
  {
   "cell_type": "code",
   "execution_count": null,
   "id": "architectural-haven",
   "metadata": {},
   "outputs": [],
   "source": []
  },
  {
   "cell_type": "code",
   "execution_count": null,
   "id": "statutory-setup",
   "metadata": {},
   "outputs": [],
   "source": []
  },
  {
   "cell_type": "code",
   "execution_count": null,
   "id": "provincial-platinum",
   "metadata": {},
   "outputs": [],
   "source": []
  },
  {
   "cell_type": "code",
   "execution_count": null,
   "id": "minimal-nigeria",
   "metadata": {},
   "outputs": [],
   "source": []
  },
  {
   "cell_type": "code",
   "execution_count": null,
   "id": "herbal-hours",
   "metadata": {},
   "outputs": [],
   "source": []
  },
  {
   "cell_type": "code",
   "execution_count": null,
   "id": "accredited-triangle",
   "metadata": {},
   "outputs": [],
   "source": []
  },
  {
   "cell_type": "code",
   "execution_count": null,
   "id": "willing-intermediate",
   "metadata": {},
   "outputs": [],
   "source": []
  },
  {
   "cell_type": "code",
   "execution_count": null,
   "id": "later-memory",
   "metadata": {},
   "outputs": [],
   "source": []
  },
  {
   "cell_type": "code",
   "execution_count": null,
   "id": "intense-islam",
   "metadata": {},
   "outputs": [],
   "source": []
  },
  {
   "cell_type": "code",
   "execution_count": null,
   "id": "square-hybrid",
   "metadata": {},
   "outputs": [],
   "source": []
  },
  {
   "cell_type": "code",
   "execution_count": null,
   "id": "simplified-andrews",
   "metadata": {},
   "outputs": [],
   "source": []
  },
  {
   "cell_type": "code",
   "execution_count": null,
   "id": "respective-organic",
   "metadata": {},
   "outputs": [],
   "source": []
  },
  {
   "cell_type": "code",
   "execution_count": null,
   "id": "graphic-harris",
   "metadata": {},
   "outputs": [],
   "source": []
  },
  {
   "cell_type": "code",
   "execution_count": null,
   "id": "paperback-uniform",
   "metadata": {},
   "outputs": [],
   "source": []
  },
  {
   "cell_type": "code",
   "execution_count": null,
   "id": "reasonable-balloon",
   "metadata": {},
   "outputs": [],
   "source": []
  },
  {
   "cell_type": "code",
   "execution_count": null,
   "id": "compact-persian",
   "metadata": {},
   "outputs": [],
   "source": []
  },
  {
   "cell_type": "code",
   "execution_count": null,
   "id": "finite-portland",
   "metadata": {},
   "outputs": [],
   "source": []
  },
  {
   "cell_type": "code",
   "execution_count": null,
   "id": "numerical-nature",
   "metadata": {},
   "outputs": [],
   "source": []
  },
  {
   "cell_type": "code",
   "execution_count": null,
   "id": "native-crash",
   "metadata": {},
   "outputs": [],
   "source": []
  },
  {
   "cell_type": "code",
   "execution_count": null,
   "id": "colored-mozambique",
   "metadata": {},
   "outputs": [],
   "source": []
  },
  {
   "cell_type": "code",
   "execution_count": null,
   "id": "superb-mills",
   "metadata": {},
   "outputs": [],
   "source": []
  },
  {
   "cell_type": "code",
   "execution_count": null,
   "id": "impressive-strand",
   "metadata": {},
   "outputs": [],
   "source": []
  },
  {
   "cell_type": "code",
   "execution_count": null,
   "id": "driven-element",
   "metadata": {},
   "outputs": [],
   "source": []
  },
  {
   "cell_type": "code",
   "execution_count": null,
   "id": "given-bride",
   "metadata": {},
   "outputs": [],
   "source": []
  },
  {
   "cell_type": "code",
   "execution_count": null,
   "id": "explicit-strike",
   "metadata": {},
   "outputs": [],
   "source": []
  },
  {
   "cell_type": "code",
   "execution_count": null,
   "id": "earlier-looking",
   "metadata": {},
   "outputs": [],
   "source": []
  },
  {
   "cell_type": "code",
   "execution_count": null,
   "id": "peaceful-shaft",
   "metadata": {},
   "outputs": [],
   "source": []
  },
  {
   "cell_type": "code",
   "execution_count": null,
   "id": "aware-terry",
   "metadata": {},
   "outputs": [],
   "source": []
  },
  {
   "cell_type": "code",
   "execution_count": null,
   "id": "temporal-burlington",
   "metadata": {},
   "outputs": [],
   "source": []
  },
  {
   "cell_type": "code",
   "execution_count": null,
   "id": "suspended-confidentiality",
   "metadata": {},
   "outputs": [],
   "source": []
  },
  {
   "cell_type": "code",
   "execution_count": null,
   "id": "careful-toilet",
   "metadata": {},
   "outputs": [],
   "source": []
  },
  {
   "cell_type": "code",
   "execution_count": null,
   "id": "expanded-rings",
   "metadata": {},
   "outputs": [],
   "source": []
  },
  {
   "cell_type": "code",
   "execution_count": null,
   "id": "spanish-locator",
   "metadata": {},
   "outputs": [],
   "source": []
  },
  {
   "cell_type": "code",
   "execution_count": null,
   "id": "hydraulic-synthesis",
   "metadata": {},
   "outputs": [],
   "source": []
  },
  {
   "cell_type": "code",
   "execution_count": null,
   "id": "above-glory",
   "metadata": {},
   "outputs": [],
   "source": []
  },
  {
   "cell_type": "code",
   "execution_count": null,
   "id": "massive-specialist",
   "metadata": {},
   "outputs": [],
   "source": []
  },
  {
   "cell_type": "code",
   "execution_count": null,
   "id": "spatial-driver",
   "metadata": {},
   "outputs": [],
   "source": []
  },
  {
   "cell_type": "code",
   "execution_count": null,
   "id": "subjective-appendix",
   "metadata": {},
   "outputs": [],
   "source": []
  },
  {
   "cell_type": "code",
   "execution_count": null,
   "id": "cellular-patent",
   "metadata": {},
   "outputs": [],
   "source": []
  },
  {
   "cell_type": "code",
   "execution_count": null,
   "id": "fifteen-steam",
   "metadata": {},
   "outputs": [],
   "source": []
  }
 ],
 "metadata": {
  "kernelspec": {
   "display_name": "Python 3",
   "language": "python",
   "name": "python3"
  },
  "language_info": {
   "codemirror_mode": {
    "name": "ipython",
    "version": 3
   },
   "file_extension": ".py",
   "mimetype": "text/x-python",
   "name": "python",
   "nbconvert_exporter": "python",
   "pygments_lexer": "ipython3",
   "version": "3.9.2"
  }
 },
 "nbformat": 4,
 "nbformat_minor": 5
}
